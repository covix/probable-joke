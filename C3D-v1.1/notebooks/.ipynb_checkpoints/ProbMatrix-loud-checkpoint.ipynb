{
 "cells": [
  {
   "cell_type": "code",
   "execution_count": null,
   "metadata": {},
   "outputs": [],
   "source": [
    "import os\n",
    "import sys\n",
    "import re\n",
    "import math\n",
    "\n",
    "from matplotlib import pyplot as plt\n",
    "import numpy as np\n",
    "#import pandas as pd\n",
    "#import seaborn as sns\n",
    "\n",
    "%matplotlib inline\n",
    "\n",
    "r = re.compile(r\"Batch (\\d+), prob = ([^\\s]+)\")\n"
   ]
  },
  {
   "cell_type": "code",
   "execution_count": null,
   "metadata": {},
   "outputs": [],
   "source": [
    "def _get_log_extension():\n",
    "    return '.stderr'"
   ]
  },
  {
   "cell_type": "code",
   "execution_count": null,
   "metadata": {},
   "outputs": [],
   "source": [
    "def parse_log(log_file):\n",
    "    probs = []\n",
    "\n",
    "    with open(log_file) as f:\n",
    "        last_class = None\n",
    "\n",
    "        for l in f.readlines():\n",
    "            matches = r.search(l)\n",
    "\n",
    "            if matches:\n",
    "                batch = int(matches.groups()[0])\n",
    "\n",
    "                if last_class != batch:\n",
    "                    last_class = batch\n",
    "                    probs.append([])\n",
    "\n",
    "                probs[last_class].append(float(matches.groups()[1]))\n",
    "\n",
    "    # row x col = alignments x probabilities\n",
    "    return np.asarray(probs)\n"
   ]
  },
  {
   "cell_type": "code",
   "execution_count": null,
   "metadata": {},
   "outputs": [],
   "source": [
    "input_folder = '/media/schenock/01D1B41ED893D2C0/Projects/LOUD_OUT_FILES'\n",
    "threshold = 0.9"
   ]
  },
  {
   "cell_type": "code",
   "execution_count": null,
   "metadata": {},
   "outputs": [],
   "source": [
    "log_files = sorted([i for i in os.listdir(input_folder) if i.endswith(_get_log_extension())])\n",
    "\n",
    "cmap = cmap=sns.diverging_palette(5, 250, as_cmap=True)"
   ]
  },
  {
   "cell_type": "code",
   "execution_count": null,
   "metadata": {},
   "outputs": [],
   "source": [
    "dfs = []\n",
    "for log_file in log_files:\n",
    "    print(\"Parsing:\", log_file)\n",
    "    m = parse_log(os.path.join(input_folder, log_file))\n",
    "    diag = m.diagonal()\n",
    "    y_pred = np.argmax(diag)\n",
    "\n",
    "    print('\\tIndex:', y_pred)\n",
    "    print('\\tClass:', y_pred + 1)\n",
    "    print('Probability:', diag[y_pred])\n",
    "    #print('Diagonal: ', diag)\n",
    "\n",
    "    sums = np.apply_along_axis(np.sum, 0, m)\n",
    "    ratios = diag / sums\n",
    "    ratios_th = ratios.copy()\n",
    "    ratios_th[diag < threshold] = 0\n",
    "    y_pred = np.argmax(ratios_th)\n",
    "\n",
    "    plt.figure()\n",
    "    plt.title(log_file)\n",
    "    plt.imshow(m, interpolation='none', cmap='Blues')\n",
    "\n",
    "    plt.figure()\n",
    "    plt.subplot(511)\n",
    "    plt.title(\"diag\")\n",
    "    plt.imshow(diag.reshape((1, 43)), interpolation='none', cmap='Blues')\n",
    "\n",
    "    plt.subplot(512)\n",
    "    plt.title(\"sums\")\n",
    "    plt.imshow(sums.reshape((1, 43)), interpolation='none', cmap='Blues')\n",
    "\n",
    "    plt.subplot(513)\n",
    "    plt.title(\"ratios\")\n",
    "    plt.imshow(ratios.reshape((1, 43)), interpolation='none', cmap='Blues')\n",
    "\n",
    "    plt.subplot(514)\n",
    "    plt.title(\"ratios_th\")\n",
    "    plt.imshow(ratios_th.reshape((1, 43)),\n",
    "               interpolation='none', cmap='Blues')\n",
    "    \n",
    "#     df = pd.DataFrame(m)\n",
    "#     dfs.append(df)\n"
   ]
  }
 ],
 "metadata": {
  "kernelspec": {
   "display_name": "Python 2",
   "language": "python",
   "name": "python2"
  },
  "language_info": {
   "codemirror_mode": {
    "name": "ipython",
    "version": 2
   },
   "file_extension": ".py",
   "mimetype": "text/x-python",
   "name": "python",
   "nbconvert_exporter": "python",
   "pygments_lexer": "ipython2",
   "version": "2.7.10"
  }
 },
 "nbformat": 4,
 "nbformat_minor": 2
}
