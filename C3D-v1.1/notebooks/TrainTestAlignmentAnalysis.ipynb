{
 "cells": [
  {
   "cell_type": "code",
   "execution_count": 2,
   "metadata": {},
   "outputs": [],
   "source": [
    "import sys\n",
    "import os\n",
    "import errno\n",
    "\n",
    "import numpy as np\n",
    "\n",
    "import matplotlib.pyplot as plt\n",
    "\n",
    "# %matplotlib notebook\n"
   ]
  },
  {
   "cell_type": "code",
   "execution_count": 3,
   "metadata": {},
   "outputs": [],
   "source": [
    "train_folder = '/Users/covix/Projects/probable-joke/ctw/misc/align_indexes_gctw_train'\n",
    "test_folder = '/Users/covix/Projects/probable-joke/ctw/misc/04'\n",
    "\n",
    "train_txt = sorted([os.path.join(train_folder, i) for i in os.listdir(train_folder)])\n",
    "\n",
    "test_samples_folder = sorted([os.path.join(test_folder, i) for i in os.listdir(test_folder)])\n",
    "test_samples = sorted([i for i in os.listdir(test_folder)])"
   ]
  },
  {
   "cell_type": "code",
   "execution_count": 4,
   "metadata": {},
   "outputs": [],
   "source": [
    "def mkdir(directory):\n",
    "    try:\n",
    "        os.makedirs(directory)\n",
    "    except OSError as e:\n",
    "        if e.errno != errno.EEXIST:\n",
    "            raise\n",
    "\n",
    "plot_dir = 'plots/train_test_alignment_analysis'\n"
   ]
  },
  {
   "cell_type": "code",
   "execution_count": 9,
   "metadata": {},
   "outputs": [
    {
     "name": "stdout",
     "output_type": "stream",
     "text": [
      "ali_gctw_deep_21_P.csv (83, 22)\n",
      "21_03-M-04-D-comp.csv (85, 22)\n",
      "\n",
      "ali_gctw_deep_29_P.csv (83, 23)\n",
      "29_03-M-04-D-comp.csv (85, 23)\n",
      "\n",
      "ali_gctw_deep_30_P.csv (83, 22)\n",
      "30_03-M-04-D-comp.csv (85, 22)\n",
      "\n",
      "ali_gctw_deep_34_P.csv (110, 22)\n",
      "35_03-M-04-D-comp.csv (91, 22)\n",
      "\n",
      "ali_gctw_deep_35_P.csv (91, 22)\n",
      "36_03-M-04-D-comp.csv (99, 23)\n",
      "\n",
      "ali_gctw_deep_36_P.csv (99, 23)\n",
      "37_03-M-04-D-comp.csv (91, 22)\n",
      "\n",
      "ali_gctw_deep_37_P.csv (91, 22)\n",
      "38_03-M-04-D-comp.csv (95, 22)\n",
      "\n",
      "ali_gctw_deep_38_P.csv (95, 22)\n",
      "39_03-M-04-D-comp.csv (85, 22)\n",
      "\n",
      "ali_gctw_deep_39_P.csv (83, 22)\n",
      "40_03-M-04-D-comp.csv (95, 23)\n",
      "\n",
      "ali_gctw_deep_40_P.csv (95, 23)\n",
      "41_03-M-04-D-comp.csv (91, 23)\n",
      "\n",
      "ali_gctw_deep_41_P.csv (91, 23)\n",
      "42_03-M-04-D-comp.csv (90, 22)\n",
      "\n",
      "ali_gctw_deep_42_P.csv (90, 22)\n",
      "43_03-M-04-D-comp.csv (94, 22)\n",
      "\n"
     ]
    },
    {
     "ename": "IndexError",
     "evalue": "list index out of range",
     "output_type": "error",
     "traceback": [
      "\u001b[0;31m---------------------------------------------------------------------------\u001b[0m",
      "\u001b[0;31mIndexError\u001b[0m                                Traceback (most recent call last)",
      "\u001b[0;32m<ipython-input-9-64999d817c5a>\u001b[0m in \u001b[0;36m<module>\u001b[0;34m()\u001b[0m\n\u001b[1;32m      8\u001b[0m     \u001b[0;32mfor\u001b[0m \u001b[0mi\u001b[0m \u001b[0;32min\u001b[0m \u001b[0mrange\u001b[0m\u001b[0;34m(\u001b[0m\u001b[0;36m43\u001b[0m\u001b[0;34m)\u001b[0m\u001b[0;34m:\u001b[0m\u001b[0;34m\u001b[0m\u001b[0m\n\u001b[1;32m      9\u001b[0m         \u001b[0mplt\u001b[0m\u001b[0;34m.\u001b[0m\u001b[0mfigure\u001b[0m\u001b[0;34m(\u001b[0m\u001b[0;34m)\u001b[0m\u001b[0;34m\u001b[0m\u001b[0m\n\u001b[0;32m---> 10\u001b[0;31m         \u001b[0mplt\u001b[0m\u001b[0;34m.\u001b[0m\u001b[0mtitle\u001b[0m\u001b[0;34m(\u001b[0m\u001b[0mos\u001b[0m\u001b[0;34m.\u001b[0m\u001b[0mpath\u001b[0m\u001b[0;34m.\u001b[0m\u001b[0mbasename\u001b[0m\u001b[0;34m(\u001b[0m\u001b[0mtest_txt\u001b[0m\u001b[0;34m[\u001b[0m\u001b[0mi\u001b[0m\u001b[0;34m]\u001b[0m\u001b[0;34m)\u001b[0m\u001b[0;34m)\u001b[0m\u001b[0;34m\u001b[0m\u001b[0m\n\u001b[0m\u001b[1;32m     11\u001b[0m         \u001b[0mtrain\u001b[0m \u001b[0;34m=\u001b[0m \u001b[0mnp\u001b[0m\u001b[0;34m.\u001b[0m\u001b[0mloadtxt\u001b[0m\u001b[0;34m(\u001b[0m\u001b[0mtrain_txt\u001b[0m\u001b[0;34m[\u001b[0m\u001b[0mi\u001b[0m\u001b[0;34m]\u001b[0m\u001b[0;34m,\u001b[0m \u001b[0mdelimiter\u001b[0m\u001b[0;34m=\u001b[0m\u001b[0;34m','\u001b[0m\u001b[0;34m)\u001b[0m\u001b[0;34m.\u001b[0m\u001b[0mround\u001b[0m\u001b[0;34m(\u001b[0m\u001b[0;34m)\u001b[0m\u001b[0;34m.\u001b[0m\u001b[0mastype\u001b[0m\u001b[0;34m(\u001b[0m\u001b[0mnp\u001b[0m\u001b[0;34m.\u001b[0m\u001b[0mint\u001b[0m\u001b[0;34m)\u001b[0m\u001b[0;34m\u001b[0m\u001b[0m\n\u001b[1;32m     12\u001b[0m         \u001b[0mtest\u001b[0m \u001b[0;34m=\u001b[0m \u001b[0mnp\u001b[0m\u001b[0;34m.\u001b[0m\u001b[0mloadtxt\u001b[0m\u001b[0;34m(\u001b[0m\u001b[0mtest_txt\u001b[0m\u001b[0;34m[\u001b[0m\u001b[0mi\u001b[0m\u001b[0;34m]\u001b[0m\u001b[0;34m,\u001b[0m \u001b[0mdelimiter\u001b[0m\u001b[0;34m=\u001b[0m\u001b[0;34m','\u001b[0m\u001b[0;34m)\u001b[0m\u001b[0;34m.\u001b[0m\u001b[0mround\u001b[0m\u001b[0;34m(\u001b[0m\u001b[0;34m)\u001b[0m\u001b[0;34m.\u001b[0m\u001b[0mastype\u001b[0m\u001b[0;34m(\u001b[0m\u001b[0mnp\u001b[0m\u001b[0;34m.\u001b[0m\u001b[0mint\u001b[0m\u001b[0;34m)\u001b[0m\u001b[0;34m\u001b[0m\u001b[0m\n",
      "\u001b[0;31mIndexError\u001b[0m: list index out of range"
     ]
    },
    {
     "data": {
      "text/plain": [
       "<matplotlib.figure.Figure at 0x118cd4f90>"
      ]
     },
     "metadata": {},
     "output_type": "display_data"
    }
   ],
   "source": [
    "for sample in range(len(test_samples_folder)):\n",
    "    test_sample_folder = test_samples_folder[sample]\n",
    "    test_txt = sorted([os.path.join(test_sample_folder, i) for i in os.listdir(test_sample_folder)])\n",
    "    \n",
    "    plot_dir_sample = os.path.join(plot_dir, test_samples[sample])\n",
    "    mkdir(plot_dir_sample)\n",
    "    \n",
    "    for i in range(43):\n",
    "        plt.figure()\n",
    "        plt.title(os.path.basename(test_txt[i]))\n",
    "        train = np.loadtxt(train_txt[i], delimiter=',').round().astype(np.int)\n",
    "        test = np.loadtxt(test_txt[i], delimiter=',').round().astype(np.int)\n",
    "\n",
    "        test = test[:, :-1]\n",
    "\n",
    "        if train.shape[0] < test.shape[0]:\n",
    "            print os.path.basename(train_txt[i]), train.shape\n",
    "            print os.path.basename(test_txt[i]), test.shape\n",
    "            print\n",
    "            train2 = np.zeros_like(test)\n",
    "            train2[:train.shape[0], :train.shape[1]] = train\n",
    "            train = train2\n",
    "        elif train.shape[0] > test.shape[0]:\n",
    "            print os.path.basename(train_txt[i]), train.shape\n",
    "            print os.path.basename(test_txt[i]), test.shape\n",
    "            print\n",
    "            test2 = np.zeros_like(train)\n",
    "            test2[:test.shape[0], :test.shape[1]] = test\n",
    "            test = test2\n",
    "\n",
    "            \n",
    "        plt.imshow(train - test, cmap='Blues')\n",
    "        plt.colorbar()\n",
    "        fname = os.path.splitext(os.path.basename(test_txt[i]))[0]\n",
    "        plt.savefig(os.path.join(plot_dir_sample, \"{}.png\".format(fname)))\n",
    "        plt.close()\n"
   ]
  },
  {
   "cell_type": "code",
   "execution_count": 13,
   "metadata": {},
   "outputs": [
    {
     "data": {
      "text/plain": [
       "42"
      ]
     },
     "execution_count": 13,
     "metadata": {},
     "output_type": "execute_result"
    }
   ],
   "source": [
    "len(test_txt)"
   ]
  },
  {
   "cell_type": "code",
   "execution_count": null,
   "metadata": {},
   "outputs": [],
   "source": []
  }
 ],
 "metadata": {
  "kernelspec": {
   "display_name": "Python 2",
   "language": "python",
   "name": "python2"
  },
  "language_info": {
   "codemirror_mode": {
    "name": "ipython",
    "version": 2
   },
   "file_extension": ".py",
   "mimetype": "text/x-python",
   "name": "python",
   "nbconvert_exporter": "python",
   "pygments_lexer": "ipython2",
   "version": "2.7.14"
  }
 },
 "nbformat": 4,
 "nbformat_minor": 2
}
